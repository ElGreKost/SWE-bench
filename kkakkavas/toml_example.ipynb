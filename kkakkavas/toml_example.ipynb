{
 "cells": [
  {
   "cell_type": "code",
   "id": "initial_id",
   "metadata": {
    "collapsed": true,
    "ExecuteTime": {
     "end_time": "2024-12-27T21:43:45.751949Z",
     "start_time": "2024-12-27T21:43:45.744423Z"
    }
   },
   "source": [
    "import tomllib\n",
    "from pprint import pprint\n",
    "from pathlib import Path\n",
    "\n",
    "def load_toml() -> dict:\n",
    "    with open(\"dummy_config.toml\", \"rb\") as f:\n",
    "        return tomllib.load(f)\n",
    "data = load_toml()\n",
    "pprint(data)"
   ],
   "outputs": [
    {
     "name": "stdout",
     "output_type": "stream",
     "text": [
      "{'database': {'file': {'path': 'data.db', 'type': 'sqlite'}},\n",
      " 'inline_table': {'inline': {'age': 30, 'name': 'John Doe'}},\n",
      " 'items': {'details': {'author': 'John Doe', 'updated': True}},\n",
      " 'itmes': {'letters': ['a', 'b', 'c'], 'numbers': [1, 2, 3]},\n",
      " 'name': 'My Project',\n",
      " 'table_group': [{'fruit': 'apple'},\n",
      "                 {'fruit': 'orange'},\n",
      "                 {'fruit': 'watermellon '}],\n",
      " 'version': '1.0.0',\n",
      " 'website': 'https://example.com'}\n"
     ]
    }
   ],
   "execution_count": 8
  }
 ],
 "metadata": {
  "kernelspec": {
   "display_name": "Python 3",
   "language": "python",
   "name": "python3"
  },
  "language_info": {
   "codemirror_mode": {
    "name": "ipython",
    "version": 2
   },
   "file_extension": ".py",
   "mimetype": "text/x-python",
   "name": "python",
   "nbconvert_exporter": "python",
   "pygments_lexer": "ipython2",
   "version": "2.7.6"
  }
 },
 "nbformat": 4,
 "nbformat_minor": 5
}
